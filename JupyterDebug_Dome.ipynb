{
 "cells": [
  {
   "cell_type": "code",
   "execution_count": 1,
   "metadata": {},
   "outputs": [],
   "source": [
    "import sys\n",
    "import configparser as cp\n",
    "import numpy as np\n",
    "import scipy.io\n",
    "import os\n",
    "import time\n",
    "import multiprocessing\n",
    "from driftDiffusionSimulatorBase import driftDiffusionSimulatorBase\n",
    "from driftDiffusionSimulatorDome import driftDiffusionSimulatorDome\n",
    "from myGeometryFunctions import *\n",
    "import matplotlib.pyplot as plt\n",
    "import matplotlib.path as mpltPath\n",
    "from scipy.ndimage import gaussian_filter\n",
    "import matplotlib.pyplot as plt"
   ]
  },
  {
   "cell_type": "code",
   "execution_count": 2,
   "metadata": {},
   "outputs": [
    {
     "name": "stdout",
     "output_type": "stream",
     "text": [
      "Dome_T4_Probe0,4.25\n"
     ]
    }
   ],
   "source": [
    "initFile = 'Dome_T4_Probe0,4.25.txt'\n",
    "\n",
    "Temp = 100\n",
    "partDensity = 100\n",
    "probeCenterX = 0\n",
    "probeCenterY= 4.25\n",
    "\n",
    "constrictionWidth = 0.6\n",
    "pScatter = 0\n",
    "sourceDrainRatio = 1.2\n",
    "Nsteps = 1000\n",
    "dNsave = 10\n",
    "domeD = 10\n",
    "injectH, injectW = 1, 5\n",
    "\n",
    "collisionDist = 0.05\n",
    "stepSize = 0.01\n",
    "\n",
    "Ncpu = 1\n",
    "outPath = './'\n",
    "\n",
    "splitName = initFile.split('.')\n",
    "if len(splitName) == 2:\n",
    "    fnameBase = initFile .split('.')[0]\n",
    "elif len(splitName) == 3:\n",
    "    fnameBase = '.'.join([initFile .split('.')[0], initFile .split('.')[1]])\n",
    "elif len(splitName) == 4:\n",
    "    fnameBase = '.'.join([initFile .split('.')[0], initFile .split('.')[1], initFile .split('.')[2]])\n",
    "\t\n",
    "print(fnameBase)"
   ]
  },
  {
   "cell_type": "code",
   "execution_count": 3,
   "metadata": {},
   "outputs": [],
   "source": [
    "dSim = driftDiffusionSimulatorDome()\n",
    "dSim.probeCenterX = probeCenterX\n",
    "dSim.probeCenterY = probeCenterY\n",
    "dSim.setConstrictionWidth(constrictionWidth)\n",
    "dSim.setInjectorShape(injectW,injectH)\n",
    "dSim.setDiameter(domeD)\n",
    "dSim.updateScatterProb(pScatter)\n",
    "dSim.Temp = Temp\n",
    "dSim.particleDensity = partDensity\n",
    "dSim.setSourceDrainRatio(sourceDrainRatio)\n",
    "dSim.setOverlapRadius(collisionDist)\n",
    "dSim.setStepSize(stepSize)\n",
    "\n",
    "dSim.setEmin(dSim.partDensity, dSim.Temp)\n",
    "dSim.calcArea()\n",
    "dSim.setNpart(dSim.partDensity, dSim.Area)\n",
    "dSim.updateBody()\n",
    "dSim.addTip()\n",
    "dSim.updateNparticles()\n",
    "\t"
   ]
  },
  {
   "cell_type": "code",
   "execution_count": 5,
   "metadata": {},
   "outputs": [
    {
     "name": "stdout",
     "output_type": "stream",
     "text": [
      "./Dome_simulation/Dome_T4_Probe0,4.25/Dome_T4_Probe0,4.25_000.npz\n",
      "0:  0.101609\n",
      "10:  1.28831\n",
      "20:  1.21606\n",
      "30:  1.25222\n",
      "40:  1.28077\n",
      "50:  1.2699\n",
      "60:  1.23772\n",
      "70:  1.21468\n",
      "80:  1.22656\n",
      "90:  1.35927\n",
      "100:  1.28361\n",
      "110:  1.27985\n",
      "120:  1.24113\n",
      "130:  1.22506\n",
      "140:  1.24255\n",
      "150:  1.23244\n",
      "160:  1.24285\n",
      "170:  1.27042\n",
      "180:  1.23299\n",
      "190:  1.31743\n",
      "200:  1.22053\n",
      "210:  1.32994\n",
      "220:  1.22306\n",
      "230:  1.19696\n",
      "240:  1.23086\n",
      "250:  1.18155\n",
      "260:  1.23386\n",
      "270:  1.24079\n",
      "280:  1.27715\n",
      "290:  1.20244\n",
      "300:  1.22948\n",
      "310:  1.22613\n",
      "320:  1.22907\n",
      "330:  1.22389\n",
      "340:  1.19724\n",
      "350:  1.20982\n",
      "360:  1.22854\n",
      "370:  1.20818\n",
      "380:  1.1856\n",
      "390:  1.31152\n",
      "400:  1.20955\n",
      "410:  1.203\n",
      "420:  1.18435\n",
      "430:  1.15515\n",
      "440:  1.16088\n",
      "450:  1.19546\n",
      "460:  1.17284\n",
      "470:  1.23488\n",
      "480:  1.20265\n",
      "490:  1.177\n",
      "500:  1.18449\n",
      "510:  1.17017\n",
      "520:  1.16663\n",
      "530:  1.15615\n",
      "540:  1.16622\n",
      "550:  1.19025\n",
      "560:  1.24821\n",
      "570:  1.14524\n",
      "580:  1.14104\n",
      "590:  1.16093\n",
      "600:  1.15358\n",
      "610:  1.17029\n",
      "620:  1.19292\n",
      "630:  1.14868\n",
      "640:  1.19032\n",
      "650:  1.17095\n",
      "660:  1.18482\n",
      "670:  1.18814\n",
      "680:  1.29657\n",
      "690:  1.16436\n",
      "700:  1.17004\n",
      "710:  1.15799\n",
      "720:  1.14234\n",
      "730:  1.13898\n",
      "740:  1.15975\n",
      "750:  1.11931\n",
      "760:  1.15728\n",
      "770:  1.17187\n",
      "780:  1.13794\n",
      "790:  1.27883\n",
      "800:  1.15054\n",
      "810:  1.19225\n",
      "820:  1.21383\n",
      "830:  1.16158\n",
      "840:  1.1946\n",
      "850:  1.19084\n",
      "860:  1.22287\n",
      "870:  1.30016\n",
      "880:  1.21185\n",
      "890:  1.19103\n",
      "900:  1.21107\n",
      "910:  1.19162\n",
      "920:  1.18772\n",
      "930:  1.16364\n",
      "940:  1.2037\n",
      "950:  1.25114\n",
      "960:  1.19409\n",
      "970:  1.17768\n",
      "980:  1.21309\n",
      "990:  1.15748\n"
     ]
    }
   ],
   "source": [
    "fnameOut = \"./Dome_simulation/\"+fnameBase+\"/\"+fnameBase+(\"_%03d\"%0)+\".npz\"\t\n",
    "print(fnameOut)\n",
    "dSim.runAndSave(Nsteps,dNsave,fnameOut)\n"
   ]
  },
  {
   "cell_type": "code",
   "execution_count": 6,
   "metadata": {},
   "outputs": [
    {
     "data": {
      "text/plain": [
       "array([-5.00000000e+00, -4.87463956e+00, -4.50484434e+00, -3.90915741e+00,\n",
       "       -3.11744901e+00, -2.16941870e+00, -1.11260467e+00,  3.06161700e-16,\n",
       "        1.11260467e+00,  2.16941870e+00,  3.11744901e+00,  3.90915741e+00,\n",
       "        4.50484434e+00,  4.87463956e+00,  5.00000000e+00,  3.00000000e-01,\n",
       "        2.50000000e+00, -2.50000000e+00, -3.00000000e-01, -5.00000000e+00,\n",
       "       -5.00000000e-01, -4.72908621e-01, -3.94570255e-01, -2.73474079e-01,\n",
       "       -1.22742744e-01,  4.12896727e-02,  2.00847712e-01,  3.38640786e-01,\n",
       "        4.39736876e-01,  4.93180652e-01,  4.93180652e-01,  4.39736876e-01,\n",
       "        3.38640786e-01,  2.00847712e-01,  4.12896727e-02, -1.22742744e-01,\n",
       "       -2.73474079e-01, -3.94570255e-01, -4.72908621e-01, -5.00000000e-01,\n",
       "       -5.00000000e+00])"
      ]
     },
     "execution_count": 6,
     "metadata": {},
     "output_type": "execute_result"
    },
    {
     "data": {
      "image/png": "[encoded data removed]",
      "text/plain": [
       "<Figure size 432x288 with 1 Axes>"
      ]
     },
     "metadata": {
      "needs_background": "light"
     },
     "output_type": "display_data"
    }
   ],
   "source": [
    "plt.plot(dSim.borderX, dSim.borderY)\n",
    "dSim.borderX"
   ]
  },
  {
   "cell_type": "code",
   "execution_count": 11,
   "metadata": {},
   "outputs": [
    {
     "name": "stdout",
     "output_type": "stream",
     "text": [
      "41.54481390150566\n"
     ]
    },
    {
     "data": {
      "text/plain": [
       "41.823558629023054"
      ]
     },
     "execution_count": 11,
     "metadata": {},
     "output_type": "execute_result"
    }
   ],
   "source": [
    "print(dSim.Area)\n",
    "np.pi/2*(5)**2 - np.pi*(.25)**2 + (2.5-.25) + .5"
   ]
  },
  {
   "cell_type": "code",
   "execution_count": null,
   "metadata": {},
   "outputs": [],
   "source": []
  }
 ],
 "metadata": {
  "kernelspec": {
   "display_name": "Python 3",
   "language": "python",
   "name": "python3"
  },
  "language_info": {
   "codemirror_mode": {
    "name": "ipython",
    "version": 3
   },
   "file_extension": ".py",
   "mimetype": "text/x-python",
   "name": "python",
   "nbconvert_exporter": "python",
   "pygments_lexer": "ipython3",
   "version": "3.8.3"
  }
 },
 "nbformat": 4,
 "nbformat_minor": 4
}
