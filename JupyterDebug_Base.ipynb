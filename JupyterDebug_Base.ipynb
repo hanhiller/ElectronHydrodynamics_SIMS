{
 "cells": [
  {
   "cell_type": "code",
   "execution_count": 1,
   "metadata": {},
   "outputs": [],
   "source": [
    "import sys\n",
    "import configparser as cp\n",
    "import numpy as np\n",
    "import scipy.io\n",
    "import os\n",
    "import time\n",
    "import multiprocessing\n",
    "from driftDiffusionSimulatorBase import driftDiffusionSimulatorBase\n",
    "from myGeometryFunctions import *\n",
    "import matplotlib.pyplot as plt\n",
    "import matplotlib.path as mpltPath\n",
    "from scipy.ndimage import gaussian_filter\n",
    "import matplotlib.pyplot as plt"
   ]
  },
  {
   "cell_type": "code",
   "execution_count": 2,
   "metadata": {},
   "outputs": [],
   "source": [
    "initFile = 'Base_debugData.txt'\n",
    "\n",
    "Temp = 300\n",
    "partDensity = 400\n",
    "probeCenterX = .9\n",
    "probeCenterY = .9\n",
    "\n",
    "pScatter = 0\n",
    "sourceDrainRatio = 1.2\n",
    "Nsteps = 1000\n",
    "dNsave = 10\n",
    "collisionDist = 0.05\n",
    "stepSize = 0.01\n",
    "\n",
    "Ncpu = 1\n",
    "outPath = './'\n",
    "\t\n",
    "splitName = initFile.split('.')\n",
    "if len(splitName) == 2:\n",
    "    fnameBase = initFile .split('.')[0]\n",
    "elif len(splitName) == 3:\n",
    "    fnameBase = '.'.join([initFile .split('.')[0], initFile .split('.')[1]])\n",
    "elif len(splitName) == 4:\n",
    "    fnameBase = '.'.join([initFile .split('.')[0], initFile .split('.')[1], initFile .split('.')[2]])\n",
    "# fnameBaseREDUCED = fnameBase+'_REDUCED'"
   ]
  },
  {
   "cell_type": "code",
   "execution_count": 3,
   "metadata": {},
   "outputs": [],
   "source": [
    "#set up the simulation from script file\n",
    "dSim = driftDiffusionSimulatorBase()\n",
    "dSim.probeCenterX = probeCenterX\n",
    "dSim.probeCenterY = probeCenterY\n",
    "dSim.updateScatterProb(pScatter)\n",
    "dSim.Temp = Temp\n",
    "dSim.partDensity = partDensity\n",
    "dSim.setSourceDrainRatio(sourceDrainRatio)\n",
    "dSim.setOverlapRadius(collisionDist)\n",
    "dSim.setStepSize(stepSize)\n",
    "\n",
    "dSim.setEmin(dSim.partDensity, dSim.Temp)\n",
    "dSim.calcArea()\n",
    "dSim.setNpart(dSim.partDensity, dSim.Area)\n",
    "dSim.updateBody()\n",
    "dSim.addTip()\n",
    "dSim.updateNparticles()\n"
   ]
  },
  {
   "cell_type": "code",
   "execution_count": 4,
   "metadata": {},
   "outputs": [
    {
     "name": "stdout",
     "output_type": "stream",
     "text": [
      "0:  0.246556\n",
      "10:  2.09125\n",
      "20:  2.14078\n"
     ]
    },
    {
     "ename": "KeyboardInterrupt",
     "evalue": "",
     "output_type": "error",
     "traceback": [
      "\u001b[0;31m---------------------------------------------------------------------------\u001b[0m",
      "\u001b[0;31mKeyboardInterrupt\u001b[0m                         Traceback (most recent call last)",
      "\u001b[0;32m<ipython-input-4-48a5d6a5ee81>\u001b[0m in \u001b[0;36m<module>\u001b[0;34m\u001b[0m\n\u001b[1;32m      1\u001b[0m \u001b[0mfnameOut\u001b[0m \u001b[0;34m=\u001b[0m \u001b[0;34m\"./Base_simulation/\"\u001b[0m\u001b[0;34m+\u001b[0m\u001b[0mfnameBase\u001b[0m\u001b[0;34m+\u001b[0m\u001b[0;34m\"/\"\u001b[0m\u001b[0;34m+\u001b[0m\u001b[0mfnameBase\u001b[0m\u001b[0;34m+\u001b[0m\u001b[0;34m(\u001b[0m\u001b[0;34m\"_%03d\"\u001b[0m\u001b[0;34m%\u001b[0m\u001b[0;36m0\u001b[0m\u001b[0;34m)\u001b[0m\u001b[0;34m+\u001b[0m\u001b[0;34m\".npz\"\u001b[0m\u001b[0;34m\u001b[0m\u001b[0;34m\u001b[0m\u001b[0m\n\u001b[1;32m      2\u001b[0m \u001b[0;31m# fnameOutREDUCED = \"./FullCircle_simulation/\"+fnameBaseREDUCED+\"/\"+fnameBaseREDUCED+(\"_%03d\"%0)+\".npz\"\u001b[0m\u001b[0;34m\u001b[0m\u001b[0;34m\u001b[0m\u001b[0;34m\u001b[0m\u001b[0m\n\u001b[0;32m----> 3\u001b[0;31m \u001b[0mdSim\u001b[0m\u001b[0;34m.\u001b[0m\u001b[0mrunAndSave\u001b[0m\u001b[0;34m(\u001b[0m\u001b[0mNsteps\u001b[0m\u001b[0;34m,\u001b[0m\u001b[0mdNsave\u001b[0m\u001b[0;34m,\u001b[0m\u001b[0mfnameOut\u001b[0m\u001b[0;34m)\u001b[0m\u001b[0;31m#,frnameOutREDUCED\u001b[0m\u001b[0;34m\u001b[0m\u001b[0;34m\u001b[0m\u001b[0m\n\u001b[0m",
      "\u001b[0;32m~/Documents/Barnard_Lab/ElectronHydrodynamics_SIMS/driftDiffusionSimulatorBase.py\u001b[0m in \u001b[0;36mrunAndSave\u001b[0;34m(self, Nsteps, dNsave, fname)\u001b[0m\n\u001b[1;32m    559\u001b[0m                 \u001b[0;32mfor\u001b[0m \u001b[0mi\u001b[0m \u001b[0;32min\u001b[0m \u001b[0mrange\u001b[0m\u001b[0;34m(\u001b[0m\u001b[0mNsteps\u001b[0m\u001b[0;34m)\u001b[0m\u001b[0;34m:\u001b[0m\u001b[0;34m\u001b[0m\u001b[0;34m\u001b[0m\u001b[0m\n\u001b[1;32m    560\u001b[0m \u001b[0;34m\u001b[0m\u001b[0m\n\u001b[0;32m--> 561\u001b[0;31m                         \u001b[0mself\u001b[0m\u001b[0;34m.\u001b[0m\u001b[0mtimestep\u001b[0m\u001b[0;34m(\u001b[0m\u001b[0;34m)\u001b[0m\u001b[0;34m\u001b[0m\u001b[0;34m\u001b[0m\u001b[0m\n\u001b[0m\u001b[1;32m    562\u001b[0m \u001b[0;34m\u001b[0m\u001b[0m\n\u001b[1;32m    563\u001b[0m                         \u001b[0;32mif\u001b[0m \u001b[0mi\u001b[0m\u001b[0;34m%\u001b[0m\u001b[0mdNsave\u001b[0m \u001b[0;34m==\u001b[0m \u001b[0;36m0\u001b[0m\u001b[0;34m:\u001b[0m\u001b[0;34m\u001b[0m\u001b[0;34m\u001b[0m\u001b[0m\n",
      "\u001b[0;32m~/Documents/Barnard_Lab/ElectronHydrodynamics_SIMS/driftDiffusionSimulatorBase.py\u001b[0m in \u001b[0;36mtimestep\u001b[0;34m(self)\u001b[0m\n\u001b[1;32m    459\u001b[0m \t\t\t\t\t\t\t\t\t\tself.vY[j]*self.pR[j]])\n\u001b[1;32m    460\u001b[0m                                 \u001b[0;31m#calculate outgoing momenta\u001b[0m\u001b[0;34m\u001b[0m\u001b[0;34m\u001b[0m\u001b[0;34m\u001b[0m\u001b[0m\n\u001b[0;32m--> 461\u001b[0;31m \t\t\t\tp3,p4 = rT.scatterMasslessParticles(\n\u001b[0m\u001b[1;32m    462\u001b[0m \t\t\t\t\t\t\t\t\t\t\t\tp1,p2,self.Emin)\n\u001b[1;32m    463\u001b[0m \t\t\t\tif not (np.array_equal(p1,p3) and \n",
      "\u001b[0;32m~/Documents/Barnard_Lab/ElectronHydrodynamics_SIMS/relativisticTransforms.py\u001b[0m in \u001b[0;36mscatterMasslessParticles\u001b[0;34m(p1, p2, Emin)\u001b[0m\n\u001b[1;32m     75\u001b[0m         \u001b[0mE2\u001b[0m \u001b[0;34m=\u001b[0m \u001b[0mnp\u001b[0m\u001b[0;34m.\u001b[0m\u001b[0msqrt\u001b[0m\u001b[0;34m(\u001b[0m\u001b[0mnp\u001b[0m\u001b[0;34m.\u001b[0m\u001b[0msum\u001b[0m\u001b[0;34m(\u001b[0m\u001b[0mp2\u001b[0m\u001b[0;34m**\u001b[0m\u001b[0;36m2\u001b[0m\u001b[0;34m)\u001b[0m\u001b[0;34m)\u001b[0m\u001b[0;34m\u001b[0m\u001b[0;34m\u001b[0m\u001b[0m\n\u001b[1;32m     76\u001b[0m \u001b[0;34m\u001b[0m\u001b[0m\n\u001b[0;32m---> 77\u001b[0;31m         \u001b[0mp10\u001b[0m\u001b[0;34m,\u001b[0m\u001b[0mE10\u001b[0m\u001b[0;34m,\u001b[0m\u001b[0mp20\u001b[0m\u001b[0;34m,\u001b[0m\u001b[0mE20\u001b[0m\u001b[0;34m,\u001b[0m\u001b[0mv1\u001b[0m\u001b[0;34m,\u001b[0m\u001b[0mv2\u001b[0m \u001b[0;34m=\u001b[0m \u001b[0mfindCenterOfMassBoost\u001b[0m\u001b[0;34m(\u001b[0m\u001b[0mp1\u001b[0m\u001b[0;34m,\u001b[0m\u001b[0mE1\u001b[0m\u001b[0;34m,\u001b[0m\u001b[0mp2\u001b[0m\u001b[0;34m,\u001b[0m\u001b[0mE2\u001b[0m\u001b[0;34m)\u001b[0m\u001b[0;34m\u001b[0m\u001b[0;34m\u001b[0m\u001b[0m\n\u001b[0m\u001b[1;32m     78\u001b[0m \u001b[0;34m\u001b[0m\u001b[0m\n\u001b[1;32m     79\u001b[0m         \u001b[0;31m# randomize output angles\u001b[0m\u001b[0;34m\u001b[0m\u001b[0;34m\u001b[0m\u001b[0;34m\u001b[0m\u001b[0m\n",
      "\u001b[0;32m~/Documents/Barnard_Lab/ElectronHydrodynamics_SIMS/relativisticTransforms.py\u001b[0m in \u001b[0;36mfindCenterOfMassBoost\u001b[0;34m(pBar1, E1, pBar2, E2)\u001b[0m\n\u001b[1;32m     63\u001b[0m         \u001b[0mvBoost2\u001b[0m \u001b[0;34m=\u001b[0m \u001b[0mpBar1mid\u001b[0m\u001b[0;34m/\u001b[0m\u001b[0mp1\u001b[0m\u001b[0;34m*\u001b[0m\u001b[0;34m(\u001b[0m\u001b[0mE1mid\u001b[0m\u001b[0;34m-\u001b[0m\u001b[0mE2mid\u001b[0m\u001b[0;34m)\u001b[0m\u001b[0;34m/\u001b[0m\u001b[0;34m(\u001b[0m\u001b[0mp1\u001b[0m\u001b[0;34m+\u001b[0m\u001b[0mp2\u001b[0m\u001b[0;34m)\u001b[0m\u001b[0;34m\u001b[0m\u001b[0;34m\u001b[0m\u001b[0m\n\u001b[1;32m     64\u001b[0m         \u001b[0;31m#perform the second boost\u001b[0m\u001b[0;34m\u001b[0m\u001b[0;34m\u001b[0m\u001b[0;34m\u001b[0m\u001b[0m\n\u001b[0;32m---> 65\u001b[0;31m         \u001b[0mpBar1out\u001b[0m\u001b[0;34m,\u001b[0m\u001b[0mE1out\u001b[0m \u001b[0;34m=\u001b[0m \u001b[0mboost\u001b[0m\u001b[0;34m(\u001b[0m\u001b[0mpBar1mid\u001b[0m\u001b[0;34m,\u001b[0m\u001b[0mE1mid\u001b[0m\u001b[0;34m,\u001b[0m\u001b[0mvBoost2\u001b[0m\u001b[0;34m)\u001b[0m\u001b[0;34m\u001b[0m\u001b[0;34m\u001b[0m\u001b[0m\n\u001b[0m\u001b[1;32m     66\u001b[0m         \u001b[0mpBar2out\u001b[0m\u001b[0;34m,\u001b[0m\u001b[0mE2out\u001b[0m \u001b[0;34m=\u001b[0m \u001b[0mboost\u001b[0m\u001b[0;34m(\u001b[0m\u001b[0mpBar2mid\u001b[0m\u001b[0;34m,\u001b[0m\u001b[0mE2mid\u001b[0m\u001b[0;34m,\u001b[0m\u001b[0mvBoost2\u001b[0m\u001b[0;34m)\u001b[0m\u001b[0;34m\u001b[0m\u001b[0;34m\u001b[0m\u001b[0m\n\u001b[1;32m     67\u001b[0m \u001b[0;34m\u001b[0m\u001b[0m\n",
      "\u001b[0;32m~/Documents/Barnard_Lab/ElectronHydrodynamics_SIMS/relativisticTransforms.py\u001b[0m in \u001b[0;36mboost\u001b[0;34m(pBar, E, vBar)\u001b[0m\n\u001b[1;32m     11\u001b[0m                 \u001b[0mvSqr\u001b[0m \u001b[0;34m=\u001b[0m \u001b[0mnp\u001b[0m\u001b[0;34m.\u001b[0m\u001b[0msum\u001b[0m\u001b[0;34m(\u001b[0m\u001b[0mvBar\u001b[0m\u001b[0;34m**\u001b[0m\u001b[0;36m2\u001b[0m\u001b[0;34m)\u001b[0m\u001b[0;34m\u001b[0m\u001b[0;34m\u001b[0m\u001b[0m\n\u001b[1;32m     12\u001b[0m                 \u001b[0mgamma\u001b[0m \u001b[0;34m=\u001b[0m \u001b[0;34m(\u001b[0m\u001b[0;36m1.\u001b[0m\u001b[0;34m-\u001b[0m\u001b[0mvSqr\u001b[0m\u001b[0;34m)\u001b[0m\u001b[0;34m**\u001b[0m\u001b[0;34m-\u001b[0m\u001b[0;36m0.5\u001b[0m\u001b[0;34m\u001b[0m\u001b[0;34m\u001b[0m\u001b[0m\n\u001b[0;32m---> 13\u001b[0;31m                 \u001b[0mpDotV\u001b[0m \u001b[0;34m=\u001b[0m \u001b[0mnp\u001b[0m\u001b[0;34m.\u001b[0m\u001b[0msum\u001b[0m\u001b[0;34m(\u001b[0m\u001b[0mpBar\u001b[0m\u001b[0;34m*\u001b[0m\u001b[0mvBar\u001b[0m\u001b[0;34m)\u001b[0m\u001b[0;34m;\u001b[0m\u001b[0;34m\u001b[0m\u001b[0;34m\u001b[0m\u001b[0m\n\u001b[0m\u001b[1;32m     14\u001b[0m \u001b[0;34m\u001b[0m\u001b[0m\n\u001b[1;32m     15\u001b[0m                 \u001b[0;32mif\u001b[0m \u001b[0mvSqr\u001b[0m\u001b[0;34m>\u001b[0m\u001b[0;36m0\u001b[0m\u001b[0;34m:\u001b[0m\u001b[0;34m\u001b[0m\u001b[0;34m\u001b[0m\u001b[0m\n",
      "\u001b[0;32m<__array_function__ internals>\u001b[0m in \u001b[0;36msum\u001b[0;34m(*args, **kwargs)\u001b[0m\n",
      "\u001b[0;32m~/opt/anaconda3/lib/python3.8/site-packages/numpy/core/fromnumeric.py\u001b[0m in \u001b[0;36msum\u001b[0;34m(a, axis, dtype, out, keepdims, initial, where)\u001b[0m\n\u001b[1;32m   2226\u001b[0m         \u001b[0;32mreturn\u001b[0m \u001b[0mres\u001b[0m\u001b[0;34m\u001b[0m\u001b[0;34m\u001b[0m\u001b[0m\n\u001b[1;32m   2227\u001b[0m \u001b[0;34m\u001b[0m\u001b[0m\n\u001b[0;32m-> 2228\u001b[0;31m     return _wrapreduction(a, np.add, 'sum', axis, dtype, out, keepdims=keepdims,\n\u001b[0m\u001b[1;32m   2229\u001b[0m                           initial=initial, where=where)\n\u001b[1;32m   2230\u001b[0m \u001b[0;34m\u001b[0m\u001b[0m\n",
      "\u001b[0;32m~/opt/anaconda3/lib/python3.8/site-packages/numpy/core/fromnumeric.py\u001b[0m in \u001b[0;36m_wrapreduction\u001b[0;34m(obj, ufunc, method, axis, dtype, out, **kwargs)\u001b[0m\n\u001b[1;32m     88\u001b[0m                 \u001b[0;32mreturn\u001b[0m \u001b[0mreduction\u001b[0m\u001b[0;34m(\u001b[0m\u001b[0maxis\u001b[0m\u001b[0;34m=\u001b[0m\u001b[0maxis\u001b[0m\u001b[0;34m,\u001b[0m \u001b[0mout\u001b[0m\u001b[0;34m=\u001b[0m\u001b[0mout\u001b[0m\u001b[0;34m,\u001b[0m \u001b[0;34m**\u001b[0m\u001b[0mpasskwargs\u001b[0m\u001b[0;34m)\u001b[0m\u001b[0;34m\u001b[0m\u001b[0;34m\u001b[0m\u001b[0m\n\u001b[1;32m     89\u001b[0m \u001b[0;34m\u001b[0m\u001b[0m\n\u001b[0;32m---> 90\u001b[0;31m     \u001b[0;32mreturn\u001b[0m \u001b[0mufunc\u001b[0m\u001b[0;34m.\u001b[0m\u001b[0mreduce\u001b[0m\u001b[0;34m(\u001b[0m\u001b[0mobj\u001b[0m\u001b[0;34m,\u001b[0m \u001b[0maxis\u001b[0m\u001b[0;34m,\u001b[0m \u001b[0mdtype\u001b[0m\u001b[0;34m,\u001b[0m \u001b[0mout\u001b[0m\u001b[0;34m,\u001b[0m \u001b[0;34m**\u001b[0m\u001b[0mpasskwargs\u001b[0m\u001b[0;34m)\u001b[0m\u001b[0;34m\u001b[0m\u001b[0;34m\u001b[0m\u001b[0m\n\u001b[0m\u001b[1;32m     91\u001b[0m \u001b[0;34m\u001b[0m\u001b[0m\n\u001b[1;32m     92\u001b[0m \u001b[0;34m\u001b[0m\u001b[0m\n",
      "\u001b[0;31mKeyboardInterrupt\u001b[0m: "
     ]
    }
   ],
   "source": [
    "fnameOut = \"./Base_simulation/\"+fnameBase+\"/\"+fnameBase+(\"_%03d\"%0)+\".npz\"\n",
    "# fnameOutREDUCED = \"./FullCircle_simulation/\"+fnameBaseREDUCED+\"/\"+fnameBaseREDUCED+(\"_%03d\"%0)+\".npz\"\n",
    "dSim.runAndSave(Nsteps,dNsave,fnameOut)#,frnameOutREDUCED\n"
   ]
  },
  {
   "cell_type": "code",
   "execution_count": null,
   "metadata": {},
   "outputs": [],
   "source": []
  }
 ],
 "metadata": {
  "kernelspec": {
   "display_name": "Python 3",
   "language": "python",
   "name": "python3"
  },
  "language_info": {
   "codemirror_mode": {
    "name": "ipython",
    "version": 3
   },
   "file_extension": ".py",
   "mimetype": "text/x-python",
   "name": "python",
   "nbconvert_exporter": "python",
   "pygments_lexer": "ipython3",
   "version": "3.8.3"
  }
 },
 "nbformat": 4,
 "nbformat_minor": 4
}
